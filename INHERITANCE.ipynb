{
 "cells": [
  {
   "cell_type": "markdown",
   "id": "f806620c",
   "metadata": {},
   "source": [
    "# M.SHARAL PRIYA                                                                                             I/II/A\n",
    "#                                CPII ASSIGNMENT"
   ]
  },
  {
   "cell_type": "markdown",
   "id": "8fd3f0d1",
   "metadata": {},
   "source": [
    "# Inheritance and its types "
   ]
  },
  {
   "cell_type": "markdown",
   "id": "034ce013",
   "metadata": {},
   "source": [
    "Single inheritance\n"
   ]
  },
  {
   "cell_type": "code",
   "execution_count": 3,
   "id": "3de2c721",
   "metadata": {},
   "outputs": [
    {
     "name": "stdout",
     "output_type": "stream",
     "text": [
      "details in Vehicle class\n",
      "details in Car class\n"
     ]
    }
   ],
   "source": [
    "class Vehicle:\n",
    "    def in_Vehicle(self):\n",
    "        print('details in Vehicle class')\n",
    "\n",
    "# Derived class\n",
    "class Car(Vehicle):\n",
    "    def in_car(self):\n",
    "        print('details in Car class')\n",
    "\n",
    "# Create object of Car\n",
    "obj = Car()\n",
    "obj.in_Vehicle()\n",
    "obj.in_car()"
   ]
  },
  {
   "cell_type": "code",
   "execution_count": null,
   "id": "262685b2",
   "metadata": {},
   "outputs": [],
   "source": [
    "multiple"
   ]
  },
  {
   "cell_type": "code",
   "execution_count": 7,
   "id": "249cc95e",
   "metadata": {},
   "outputs": [
    {
     "name": "stdout",
     "output_type": "stream",
     "text": [
      "Inside Person class\n",
      "Name: sharal Age: 23\n",
      "Inside Company class\n",
      "Name: Google location: siberia\n",
      "Inside Employee class\n",
      "Salary: 19000 Skill: Machine Learning\n"
     ]
    }
   ],
   "source": [
    "# Base class 1\n",
    "class Person:\n",
    "    def person_info(self, name, age):\n",
    "        print('Inside Person class')\n",
    "        print('Name:', name, 'Age:', age)\n",
    "\n",
    "# Base class 2\n",
    "class factory:\n",
    "    def factory_info(self, company_name, location):\n",
    "        print('Inside Company class')\n",
    "        print('Name:', company_name, 'location:', location)\n",
    "\n",
    "# Derived class\n",
    "class employee(Person, factory):\n",
    "    def employee_info(self, salary, skill):\n",
    "        print('Inside Employee class')\n",
    "        print('Salary:', salary, 'Skill:', skill)\n",
    "obj1 = employee()\n",
    "\n",
    "# access data\n",
    "obj1.person_info('sharal', 23)\n",
    "obj1.factory_info('Google', 'siberia')\n",
    "obj1.employee_info(19000, 'Machine Learning')"
   ]
  },
  {
   "cell_type": "code",
   "execution_count": null,
   "id": "a01d3046",
   "metadata": {},
   "outputs": [],
   "source": [
    "multilevel"
   ]
  },
  {
   "cell_type": "code",
   "execution_count": 8,
   "id": "5365a36b",
   "metadata": {},
   "outputs": [
    {
     "name": "stdout",
     "output_type": "stream",
     "text": [
      "details in Vehicle class\n",
      "details in Car class\n",
      "details in royalcar class\n"
     ]
    }
   ],
   "source": [
    "class Vehicle:\n",
    "    def in_Vehicle(self):\n",
    "        print('details in Vehicle class')\n",
    "\n",
    "# Derived class\n",
    "class Car(Vehicle):\n",
    "    def in_car(self):\n",
    "        print('details in Car class')\n",
    "\n",
    "class RoyalCar(Car):\n",
    "    def in_royalcar(self):\n",
    "        print('details in royalcar class')\n",
    "# Create object of Car\n",
    "obj = RoyalCar()\n",
    "obj.in_Vehicle()\n",
    "obj.in_car()\n",
    "obj.in_royalcar()"
   ]
  },
  {
   "cell_type": "code",
   "execution_count": null,
   "id": "0c4b6932",
   "metadata": {},
   "outputs": [],
   "source": [
    "Hierarchical"
   ]
  },
  {
   "cell_type": "code",
   "execution_count": 12,
   "id": "8ed4df5f",
   "metadata": {},
   "outputs": [
    {
     "name": "stdout",
     "output_type": "stream",
     "text": [
      "This is Vehicle\n",
      "Car name is: BMW\n",
      "This is Vehicle\n",
      "bus name is: Ford\n"
     ]
    }
   ],
   "source": [
    "class Vehicle:\n",
    "    def info(self):\n",
    "        print(\"This is Vehicle\")\n",
    "\n",
    "class Car(Vehicle):\n",
    "    def car_info(self, name):\n",
    "        print(\"Car name is:\", name)\n",
    "\n",
    "class Bus(Vehicle):\n",
    "    def bus_info(self, name):\n",
    "        print(\"bus name is:\", name)\n",
    "\n",
    "obj10 = Car()\n",
    "obj10.info()\n",
    "obj10.car_info('BMW')\n",
    "\n",
    "obj20= Bus()\n",
    "obj20.info()\n",
    "obj20.bus_info('Ford')"
   ]
  },
  {
   "cell_type": "code",
   "execution_count": null,
   "id": "1dba42f5",
   "metadata": {},
   "outputs": [],
   "source": [
    "hybrid"
   ]
  },
  {
   "cell_type": "code",
   "execution_count": 16,
   "id": "c314240e",
   "metadata": {},
   "outputs": [
    {
     "name": "stdout",
     "output_type": "stream",
     "text": [
      "Inside Vehicle class\n",
      "Inside Car class\n",
      "Inside RoyalCar class\n"
     ]
    }
   ],
   "source": [
    "class Vehicle:\n",
    "    def vehicle_info(self):\n",
    "        print(\"Inside Vehicle class\")\n",
    "\n",
    "class Car(Vehicle):\n",
    "    def car_info(self):\n",
    "        print(\"Inside Car class\")\n",
    "\n",
    "class Bus(Vehicle):\n",
    "    def bus_info(self):\n",
    "        print(\"Inside Truck class\")\n",
    "\n",
    "# Sports Car can inherits properties of Vehicle and Car\n",
    "class RoyalCar(Car, Vehicle):\n",
    "    def royalcar_info(self):\n",
    "        print(\"Inside RoyalCar class\")\n",
    "\n",
    "# create object\n",
    "s_car =RoyalCar()\n",
    "\n",
    "s_car.vehicle_info()\n",
    "s_car.car_info()\n",
    "s_car.royalcar_info()"
   ]
  },
  {
   "cell_type": "code",
   "execution_count": null,
   "id": "970477ac",
   "metadata": {},
   "outputs": [],
   "source": []
  }
 ],
 "metadata": {
  "kernelspec": {
   "display_name": "Python 3",
   "language": "python",
   "name": "python3"
  },
  "language_info": {
   "codemirror_mode": {
    "name": "ipython",
    "version": 3
   },
   "file_extension": ".py",
   "mimetype": "text/x-python",
   "name": "python",
   "nbconvert_exporter": "python",
   "pygments_lexer": "ipython3",
   "version": "3.8.8"
  }
 },
 "nbformat": 4,
 "nbformat_minor": 5
}
