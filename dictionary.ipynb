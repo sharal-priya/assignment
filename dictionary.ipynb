{
 "cells": [
  {
   "cell_type": "code",
   "execution_count": null,
   "id": "2c963f4d",
   "metadata": {},
   "outputs": [],
   "source": []
  },
  {
   "cell_type": "code",
   "execution_count": 6,
   "id": "44707a36",
   "metadata": {},
   "outputs": [
    {
     "name": "stdout",
     "output_type": "stream",
     "text": [
      "OrderedDict([('sanjeeth', '25'), ('sooraj', '63'), ('sudha', '50'), ('sunil', '11'), ('yogesh', '20')])\n"
     ]
    }
   ],
   "source": [
    "import collections# from import OrderedDict\n",
    "dict2 = {'sudha': '50', 'sunil': '11',\n",
    "        'sanjeeth': '25', 'yogesh': '20', 'sooraj': '63'}\n",
    "dict1 = OrderedDict(sorted(dict2.items()))\n",
    "print(dict1)"
   ]
  },
  {
   "cell_type": "code",
   "execution_count": null,
   "id": "87c428be",
   "metadata": {},
   "outputs": [],
   "source": []
  },
  {
   "cell_type": "code",
   "execution_count": 11,
   "id": "7049c536",
   "metadata": {},
   "outputs": [
    {
     "name": "stdout",
     "output_type": "stream",
     "text": [
      "{(1, 0, 9): -8, (54, 24, 47): 31}\n"
     ]
    }
   ],
   "source": [
    "import random\n",
    "dict1 = {}\n",
    "a, b, c = 1, 0, 9\n",
    "dict1[a, b, c] = a + b - c;\n",
    "a, b, c = 54, 24, 47\n",
    "dict1[a, b, c] = a + b - c;\n",
    "print(dict1)\n"
   ]
  },
  {
   "cell_type": "code",
   "execution_count": null,
   "id": "fca141a8",
   "metadata": {},
   "outputs": [],
   "source": []
  },
  {
   "cell_type": "code",
   "execution_count": 14,
   "id": "265682de",
   "metadata": {},
   "outputs": [
    {
     "name": "stdout",
     "output_type": "stream",
     "text": [
      "Size of Set1: 200\n"
     ]
    }
   ],
   "source": [
    "Set1 = {(1, \"cherry\"), ( 2, 4), 3,}\n",
    "print(\"Size of Set1: \" + str(Set1.__sizeof__()))"
   ]
  },
  {
   "cell_type": "code",
   "execution_count": null,
   "id": "8bb9e83f",
   "metadata": {},
   "outputs": [],
   "source": []
  },
  {
   "cell_type": "code",
   "execution_count": 17,
   "id": "505d8847",
   "metadata": {},
   "outputs": [
    {
     "name": "stdout",
     "output_type": "stream",
     "text": [
      "h\n",
      "o\n",
      "p\n",
      "y\n",
      "n\n",
      "t\n"
     ]
    }
   ],
   "source": [
    "set1 = set(\"python\")\n",
    "for val in set1:\n",
    "\tprint(val)\n"
   ]
  },
  {
   "cell_type": "code",
   "execution_count": null,
   "id": "e47226f1",
   "metadata": {},
   "outputs": [],
   "source": [
    "Assigning Subsequent Rows to Matrix first row elements"
   ]
  },
  {
   "cell_type": "code",
   "execution_count": 18,
   "id": "f53be413",
   "metadata": {},
   "outputs": [
    {
     "name": "stdout",
     "output_type": "stream",
     "text": [
      "The original list : [[5, 8, 9], [2, 0, 9], [5, 4, 2], [2, 3, 9]]\n",
      "The Assigned Matrix : {5: [2, 0, 9], 8: [5, 4, 2], 9: [2, 3, 9]}\n"
     ]
    }
   ],
   "source": [
    "\n",
    "list1 = [[5, 8, 9], [2, 0, 9], [5, 4, 2], [2, 3, 9]]\n",
    "print(\"The original list : \" + str(list1))\n",
    "reg = {list1[0][a] : list1[a + 1] for a in range(len(list1) - 1)}\n",
    "\n",
    "print(\"The Assigned Matrix : \" + str(reg))\n"
   ]
  },
  {
   "cell_type": "code",
   "execution_count": null,
   "id": "49e9cf9e",
   "metadata": {},
   "outputs": [],
   "source": []
  },
  {
   "cell_type": "code",
   "execution_count": 20,
   "id": "fc1c232d",
   "metadata": {},
   "outputs": [
    {
     "name": "stdout",
     "output_type": "stream",
     "text": [
      "Printing elements of first matrix\n",
      "[[1 2]\n",
      " [3 4]]\n",
      "Printing elements of second matrix\n",
      "[[4 5]\n",
      " [6 7]]\n",
      "Addition of two matrix\n",
      "[[ 5  7]\n",
      " [ 9 11]]\n"
     ]
    }
   ],
   "source": [
    "#adding two matrix\n",
    "import numpy as np\n",
    "x= np.array([[1, 2], [3, 4]])\n",
    "y= np.array([[4, 5], [6, 7]])\n",
    "\n",
    "print(\"Printing elements of first matrix\")\n",
    "print(x)\n",
    "print(\"Printing elements of second matrix\")\n",
    "print(y)\n",
    "print(\"Addition of two matrix\")\n",
    "print(np.add(x, y))\n"
   ]
  },
  {
   "cell_type": "code",
   "execution_count": 21,
   "id": "b2bbf4aa",
   "metadata": {},
   "outputs": [
    {
     "name": "stdout",
     "output_type": "stream",
     "text": [
      "Printing elements of first matrix\n",
      "[[1 2]\n",
      " [3 4]]\n",
      "Printing elements of second matrix\n",
      "[[4 5]\n",
      " [6 7]]\n",
      "Subtraction of two matrix\n",
      "[[-3 -3]\n",
      " [-3 -3]]\n"
     ]
    }
   ],
   "source": [
    "# subtracting two matrix\n",
    "import numpy as np\n",
    "A = np.array([[1, 2], [3, 4]])\n",
    "B = np.array([[4, 5], [6, 7]])\n",
    "print(\"Printing elements of first matrix\")\n",
    "print(A)\n",
    "print(\"Printing elements of second matrix\")\n",
    "print(B)\n",
    "print(\"Subtraction of two matrix\")\n",
    "print(np.subtract(A, B))\n"
   ]
  },
  {
   "cell_type": "code",
   "execution_count": null,
   "id": "60054e86",
   "metadata": {},
   "outputs": [],
   "source": []
  },
  {
   "cell_type": "code",
   "execution_count": 22,
   "id": "f1a18350",
   "metadata": {},
   "outputs": [
    {
     "name": "stdout",
     "output_type": "stream",
     "text": [
      "(a, b)\n"
     ]
    }
   ],
   "source": [
    "import inspect\n",
    "def fun(a, b):\n",
    "    return a**b\n",
    "print(inspect.signature(fun))\n"
   ]
  },
  {
   "cell_type": "code",
   "execution_count": null,
   "id": "07ee46dd",
   "metadata": {},
   "outputs": [],
   "source": []
  }
 ],
 "metadata": {
  "kernelspec": {
   "display_name": "Python 3",
   "language": "python",
   "name": "python3"
  },
  "language_info": {
   "codemirror_mode": {
    "name": "ipython",
    "version": 3
   },
   "file_extension": ".py",
   "mimetype": "text/x-python",
   "name": "python",
   "nbconvert_exporter": "python",
   "pygments_lexer": "ipython3",
   "version": "3.8.8"
  }
 },
 "nbformat": 4,
 "nbformat_minor": 5
}
