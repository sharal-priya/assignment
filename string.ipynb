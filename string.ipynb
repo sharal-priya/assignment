{
 "cells": [
  {
   "cell_type": "code",
   "execution_count": null,
   "id": "e4b21f28",
   "metadata": {},
   "outputs": [],
   "source": [
    "Python program to Find the size of a Tuple"
   ]
  },
  {
   "cell_type": "code",
   "execution_count": 1,
   "id": "9d9c0040",
   "metadata": {},
   "outputs": [
    {
     "name": "stdout",
     "output_type": "stream",
     "text": [
      "Size of Tuple1: 56bytes\n"
     ]
    }
   ],
   "source": [
    "Tuple1 = ((1, \"apple\"), ( 2, \"mango\"), (3, \"cherry\"), (4, \"avacado\"))\n",
    "print(\"Size of Tuple1: \" + str(Tuple1.__sizeof__()) + \"bytes\")"
   ]
  },
  {
   "cell_type": "code",
   "execution_count": null,
   "id": "85450d42",
   "metadata": {},
   "outputs": [],
   "source": [
    "Python – Maximum and Minimum K elements in Tuple"
   ]
  },
  {
   "cell_type": "code",
   "execution_count": 5,
   "id": "0c2522d6",
   "metadata": {},
   "outputs": [
    {
     "name": "stdout",
     "output_type": "stream",
     "text": [
      "The original tuple is : (5, 20, 3, 7, 6, 8)\n",
      "The extracted values : (3, 5, 8, 20)\n"
     ]
    }
   ],
   "source": [
    "tup = (5, 20, 3, 7, 6, 8)\n",
    "print(\"The original tuple is : \" + str(tup))\n",
    "K = 2\n",
    "tup = list(tup)\n",
    "temp = sorted(tup)\n",
    "res = tuple(temp[:K] + temp[-K:])\n",
    "print(\"The extracted values : \" + str(res))\n"
   ]
  },
  {
   "cell_type": "code",
   "execution_count": null,
   "id": "0b2a2eb5",
   "metadata": {},
   "outputs": [],
   "source": []
  },
  {
   "cell_type": "code",
   "execution_count": 8,
   "id": "4149c03f",
   "metadata": {},
   "outputs": [
    {
     "name": "stdout",
     "output_type": "stream",
     "text": [
      "The tuple is : (7, 8, 9, 1, 10, 7)\n",
      "The sum of tuple elements are : 42\n"
     ]
    }
   ],
   "source": [
    "tup = (7, 8, 9, 1, 10, 7)\n",
    "print(\"The tuple is : \" + str(tup))\n",
    "res = sum(list(tup))\n",
    "print(\"The sum of tuple elements are : \" + str(res))"
   ]
  },
  {
   "cell_type": "code",
   "execution_count": null,
   "id": "ae5a70be",
   "metadata": {},
   "outputs": [],
   "source": [
    "STRING"
   ]
  },
  {
   "cell_type": "code",
   "execution_count": null,
   "id": "3bd57430",
   "metadata": {},
   "outputs": [],
   "source": []
  },
  {
   "cell_type": "code",
   "execution_count": 10,
   "id": "66b7dcaf",
   "metadata": {},
   "outputs": [
    {
     "name": "stdout",
     "output_type": "stream",
     "text": [
      "amaama string is palindrome\n"
     ]
    }
   ],
   "source": [
    "string = 'amaama'\n",
    "half = int(len(string) / 2)\n",
    "\n",
    "if len(string) % 2 == 0: # even\n",
    "    first_str = string[:half]\n",
    "    second_str = string[half:]\n",
    "else: # odd\n",
    "    first_str = string[:half]\n",
    "    second_str = string[half+1:]\n",
    "# palindrome\n",
    "if first_str == second_str[::-1]: # ''.join(reversed(second_str)) [slower]\n",
    "    print(string, 'string is palindrome')\n",
    "else:\n",
    "    print(string, 'string is not palindrome')\n"
   ]
  },
  {
   "cell_type": "code",
   "execution_count": null,
   "id": "d9048af6",
   "metadata": {},
   "outputs": [],
   "source": []
  },
  {
   "cell_type": "code",
   "execution_count": 2,
   "id": "f0085902",
   "metadata": {},
   "outputs": [
    {
     "name": "stdout",
     "output_type": "stream",
     "text": [
      "good doing am I\n"
     ]
    }
   ],
   "source": [
    "string = \"I am doing good\"\n",
    "words = string.split()\n",
    "words = list(reversed(words))\n",
    "print(\" \".join(words))"
   ]
  },
  {
   "cell_type": "code",
   "execution_count": null,
   "id": "a8476e41",
   "metadata": {},
   "outputs": [],
   "source": []
  },
  {
   "cell_type": "code",
   "execution_count": 3,
   "id": "d2c5a6bd",
   "metadata": {},
   "outputs": [
    {
     "name": "stdout",
     "output_type": "stream",
     "text": [
      "The original string is : hello welcome to INDIA\n",
      "The string after removal of i'th character : helo welcome to INDIA\n"
     ]
    }
   ],
   "source": [
    "str1= \"hello welcome to INDIA\"\n",
    "print (\"The original string is : \" +str1)\n",
    "str2=str1[:2] + str1[3:]\n",
    "print (\"The string after removal of i'th character : \" + str2)"
   ]
  },
  {
   "cell_type": "code",
   "execution_count": null,
   "id": "f09096a8",
   "metadata": {},
   "outputs": [],
   "source": []
  }
 ],
 "metadata": {
  "kernelspec": {
   "display_name": "Python 3",
   "language": "python",
   "name": "python3"
  },
  "language_info": {
   "codemirror_mode": {
    "name": "ipython",
    "version": 3
   },
   "file_extension": ".py",
   "mimetype": "text/x-python",
   "name": "python",
   "nbconvert_exporter": "python",
   "pygments_lexer": "ipython3",
   "version": "3.8.8"
  }
 },
 "nbformat": 4,
 "nbformat_minor": 5
}
