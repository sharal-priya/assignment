{
 "cells": [
  {
   "cell_type": "code",
   "execution_count": null,
   "id": "a8fce5c0",
   "metadata": {},
   "outputs": [],
   "source": []
  },
  {
   "cell_type": "code",
   "execution_count": 2,
   "id": "7e3738a3",
   "metadata": {},
   "outputs": [
    {
     "name": "stdout",
     "output_type": "stream",
     "text": [
      "[24, 35, 9, 56, 12]\n"
     ]
    }
   ],
   "source": [
    "def swapList(list):\n",
    "    \n",
    "    start, *middle, end = list\n",
    "    list = [end, *middle, start]    \n",
    "    return list\n",
    "new = [12, 35, 9, 56, 24]\n",
    "\n",
    "print(swapList(new))\n"
   ]
  },
  {
   "cell_type": "code",
   "execution_count": null,
   "id": "58481f17",
   "metadata": {},
   "outputs": [],
   "source": []
  },
  {
   "cell_type": "code",
   "execution_count": 21,
   "id": "b3c25655",
   "metadata": {},
   "outputs": [
    {
     "name": "stdout",
     "output_type": "stream",
     "text": [
      "enter the position of the elment 1:3\n",
      "enter the position of the elment 2:4\n"
     ]
    },
    {
     "data": {
      "text/plain": [
       "[10, 14, 5, 56, 9, 12]"
      ]
     },
     "execution_count": 21,
     "metadata": {},
     "output_type": "execute_result"
    }
   ],
   "source": [
    "import string\n",
    "lst= [10, 14, 5, 9, 56, 12]\n",
    "i1=int(input(\"enter the position of the elment 1:\"))\n",
    "i2=int(input(\"enter the position of the elment 2:\"))\n",
    "def swap(lst,i1,i2):\n",
    "    lst[i1],lst[i2]=lst[i2],lst[i1]\n",
    "    return lst    \n",
    "swap(lst,i1,i2)"
   ]
  },
  {
   "cell_type": "code",
   "execution_count": null,
   "id": "2607454a",
   "metadata": {},
   "outputs": [],
   "source": [
    "Python | Ways to find length of list"
   ]
  },
  {
   "cell_type": "code",
   "execution_count": null,
   "id": "f03f6cf8",
   "metadata": {},
   "outputs": [],
   "source": [
    "1) using len function\n"
   ]
  },
  {
   "cell_type": "code",
   "execution_count": 6,
   "id": "e34b127e",
   "metadata": {},
   "outputs": [
    {
     "name": "stdout",
     "output_type": "stream",
     "text": [
      "The length of list is:  3\n"
     ]
    }
   ],
   "source": [
    "n = len([10, 20, 30])\n",
    "print(\"The length of list is: \", n)"
   ]
  },
  {
   "cell_type": "code",
   "execution_count": null,
   "id": "3799cceb",
   "metadata": {},
   "outputs": [],
   "source": [
    "2) using loop"
   ]
  },
  {
   "cell_type": "code",
   "execution_count": 8,
   "id": "d734b5d7",
   "metadata": {},
   "outputs": [
    {
     "name": "stdout",
     "output_type": "stream",
     "text": [
      "The list is : [1, 4, 5, 7, 8]\n",
      "Length of list is : 5\n"
     ]
    }
   ],
   "source": [
    "test_list = [ 1, 4, 5, 7, 8 ]\n",
    "print (\"The list is : \" + str(test_list))\n",
    "counter = 0\n",
    "for i in test_list:\n",
    "    counter = counter + 1\n",
    "print (\"Length of list is : \" + str(counter))\n",
    "\n"
   ]
  },
  {
   "cell_type": "code",
   "execution_count": null,
   "id": "5465108f",
   "metadata": {},
   "outputs": [],
   "source": [
    "minimum of two numbers\n"
   ]
  },
  {
   "cell_type": "code",
   "execution_count": 9,
   "id": "3f00d62a",
   "metadata": {},
   "outputs": [
    {
     "name": "stdout",
     "output_type": "stream",
     "text": [
      "2\n"
     ]
    }
   ],
   "source": [
    "a = 2\n",
    "b = 4\n",
    "\n",
    "minimum = min(a, b)\n",
    "print(minimum)\n"
   ]
  },
  {
   "cell_type": "code",
   "execution_count": null,
   "id": "b1e42a88",
   "metadata": {},
   "outputs": [],
   "source": [
    "maximum of two numbers"
   ]
  },
  {
   "cell_type": "code",
   "execution_count": 10,
   "id": "1e44a857",
   "metadata": {},
   "outputs": [
    {
     "name": "stdout",
     "output_type": "stream",
     "text": [
      "4\n"
     ]
    }
   ],
   "source": [
    "a = 2\n",
    "b = 4\n",
    "\n",
    "maximum = max(a, b)\n",
    "print(maximum)"
   ]
  }
 ],
 "metadata": {
  "kernelspec": {
   "display_name": "Python 3",
   "language": "python",
   "name": "python3"
  },
  "language_info": {
   "codemirror_mode": {
    "name": "ipython",
    "version": 3
   },
   "file_extension": ".py",
   "mimetype": "text/x-python",
   "name": "python",
   "nbconvert_exporter": "python",
   "pygments_lexer": "ipython3",
   "version": "3.8.8"
  }
 },
 "nbformat": 4,
 "nbformat_minor": 5
}
