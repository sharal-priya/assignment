{
 "cells": [
  {
   "cell_type": "markdown",
   "id": "1436e928",
   "metadata": {},
   "source": [
    "# re.search"
   ]
  },
  {
   "cell_type": "code",
   "execution_count": 4,
   "id": "414633a7",
   "metadata": {},
   "outputs": [
    {
     "name": "stdout",
     "output_type": "stream",
     "text": [
      "None\n",
      "<re.Match object; span=(8, 9), match='t'>\n"
     ]
    }
   ],
   "source": [
    "import re\n",
    "\n",
    "line = \"welcome to python\"\n",
    "x = re.search(\"^to.*python$\", line)\n",
    "print(x)\n",
    "y = re.search(\"t\", line)\n",
    "print(y)"
   ]
  },
  {
   "cell_type": "code",
   "execution_count": 5,
   "id": "aeb81297",
   "metadata": {},
   "outputs": [
    {
     "data": {
      "text/plain": [
       "<function re.findall(pattern, string, flags=0)>"
      ]
     },
     "execution_count": 5,
     "metadata": {},
     "output_type": "execute_result"
    }
   ],
   "source": [
    "re.findall"
   ]
  },
  {
   "cell_type": "code",
   "execution_count": 6,
   "id": "a46e4dab",
   "metadata": {},
   "outputs": [
    {
     "name": "stdout",
     "output_type": "stream",
     "text": [
      "['o', 'o', 'o']\n"
     ]
    }
   ],
   "source": [
    "import re\n",
    "\n",
    "line2 = \"welcome to#$ python *&\"\n",
    "a = re.findall(\"o\", line2)\n",
    "print(a)"
   ]
  },
  {
   "cell_type": "code",
   "execution_count": 7,
   "id": "538b3e7a",
   "metadata": {},
   "outputs": [
    {
     "data": {
      "text/plain": [
       "<function re.search(pattern, string, flags=0)>"
      ]
     },
     "execution_count": 7,
     "metadata": {},
     "output_type": "execute_result"
    }
   ],
   "source": [
    "re.search"
   ]
  },
  {
   "cell_type": "code",
   "execution_count": 9,
   "id": "3b0613cb",
   "metadata": {},
   "outputs": [
    {
     "name": "stdout",
     "output_type": "stream",
     "text": [
      "<re.Match object; span=(4, 5), match='o'>\n"
     ]
    }
   ],
   "source": [
    "import re\n",
    "\n",
    "line3 = \"python is a object oriented programming language\"\n",
    "c = re.search(\"o\", line3)\n",
    "print(c)"
   ]
  },
  {
   "cell_type": "code",
   "execution_count": null,
   "id": "7517839a",
   "metadata": {},
   "outputs": [],
   "source": [
    "re.split"
   ]
  },
  {
   "cell_type": "code",
   "execution_count": 12,
   "id": "aa4e75b6",
   "metadata": {},
   "outputs": [
    {
     "name": "stdout",
     "output_type": "stream",
     "text": [
      "['', 'ython is a object oriented ', 'rogramming language']\n"
     ]
    }
   ],
   "source": [
    "import re\n",
    "\n",
    "line4 = \"python is a object oriented programming language\"\n",
    "d = re.split(\"p\", line4)\n",
    "print(d)"
   ]
  },
  {
   "cell_type": "code",
   "execution_count": null,
   "id": "168ff608",
   "metadata": {},
   "outputs": [],
   "source": [
    "re.sub"
   ]
  },
  {
   "cell_type": "code",
   "execution_count": 13,
   "id": "685797cd",
   "metadata": {},
   "outputs": [
    {
     "name": "stdout",
     "output_type": "stream",
     "text": [
      "python9is9a9object9oriented9programming9language\n"
     ]
    }
   ],
   "source": [
    "import re\n",
    "\n",
    "line5 =  \"python is a object oriented programming language\"\n",
    "e = re.sub(\"\\s\", \"9\", line5)\n",
    "print(e)\n"
   ]
  },
  {
   "cell_type": "code",
   "execution_count": null,
   "id": "4d8f4cd2",
   "metadata": {},
   "outputs": [],
   "source": []
  }
 ],
 "metadata": {
  "kernelspec": {
   "display_name": "Python 3",
   "language": "python",
   "name": "python3"
  },
  "language_info": {
   "codemirror_mode": {
    "name": "ipython",
    "version": 3
   },
   "file_extension": ".py",
   "mimetype": "text/x-python",
   "name": "python",
   "nbconvert_exporter": "python",
   "pygments_lexer": "ipython3",
   "version": "3.8.8"
  }
 },
 "nbformat": 4,
 "nbformat_minor": 5
}
