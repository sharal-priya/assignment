{
 "cells": [
  {
   "cell_type": "code",
   "execution_count": null,
   "id": "ea15d43b",
   "metadata": {},
   "outputs": [],
   "source": [
    "M.Sharal priya"
   ]
  },
  {
   "cell_type": "code",
   "execution_count": 23,
   "id": "ac67a3ac",
   "metadata": {},
   "outputs": [
    {
     "name": "stdout",
     "output_type": "stream",
     "text": [
      "21UAI078\n"
     ]
    }
   ],
   "source": [
    "print(\"21UAI078\")"
   ]
  },
  {
   "cell_type": "code",
   "execution_count": null,
   "id": "249bbee5",
   "metadata": {},
   "outputs": [],
   "source": [
    "Write a function called show_stars(rows). If rows are 5, it should print the following:"
   ]
  },
  {
   "cell_type": "code",
   "execution_count": 22,
   "id": "6d9413fe",
   "metadata": {},
   "outputs": [
    {
     "name": "stdout",
     "output_type": "stream",
     "text": [
      "enter the no of rows2\n",
      "*   \n",
      "*  *   \n"
     ]
    }
   ],
   "source": [
    "n=int(input(\"enter the no of rows\"));\n",
    "def row(n):\n",
    "     for i in range(0 , n):\n",
    "            for j in range(0,i+1):\n",
    "                 print(\"* \",end=\" \")                    \n",
    "            print(\" \")\n",
    "row(n)\n"
   ]
  },
  {
   "cell_type": "code",
   "execution_count": 2,
   "id": "769af0cd",
   "metadata": {},
   "outputs": [
    {
     "ename": "SyntaxError",
     "evalue": "invalid syntax (<ipython-input-2-d2f5194bbfb8>, line 1)",
     "output_type": "error",
     "traceback": [
      "\u001b[1;36m  File \u001b[1;32m\"<ipython-input-2-d2f5194bbfb8>\"\u001b[1;36m, line \u001b[1;32m1\u001b[0m\n\u001b[1;33m    Write a program to remove characters from a string starting from zero up to n and return a new string\u001b[0m\n\u001b[1;37m          ^\u001b[0m\n\u001b[1;31mSyntaxError\u001b[0m\u001b[1;31m:\u001b[0m invalid syntax\n"
     ]
    }
   ],
   "source": [
    "Write a program to remove characters from a string starting from zero up to n and return a new string"
   ]
  },
  {
   "cell_type": "code",
   "execution_count": 3,
   "id": "a8205afa",
   "metadata": {},
   "outputs": [
    {
     "name": "stdout",
     "output_type": "stream",
     "text": [
      "The original string is : GeeksForGeeks\n",
      "The string after removal of i'th character : ksForGeeks\n"
     ]
    }
   ],
   "source": [
    "\n",
    "test_str = \"GeeksForGeeks\"\n",
    "print (\"The original string is : \" + test_str)\n",
    "new_str = test_str[:0] + test_str[3:]\n",
    "print (\"The string after removal of i'th character : \" + new_str)\n",
    "\n"
   ]
  },
  {
   "cell_type": "code",
   "execution_count": null,
   "id": "7135bf65",
   "metadata": {},
   "outputs": [],
   "source": [
    "Iterate the given list of numbers and print only those numbers which are divisible by 5"
   ]
  },
  {
   "cell_type": "code",
   "execution_count": 8,
   "id": "14365307",
   "metadata": {},
   "outputs": [
    {
     "name": "stdout",
     "output_type": "stream",
     "text": [
      "[5, 20]\n"
     ]
    }
   ],
   "source": [
    "print(list(filter(lambda n:n%5==0, [1,5,109,20])))\n"
   ]
  },
  {
   "cell_type": "code",
   "execution_count": null,
   "id": "074003ca",
   "metadata": {},
   "outputs": [],
   "source": []
  },
  {
   "cell_type": "code",
   "execution_count": 19,
   "id": "9bb9572b",
   "metadata": {},
   "outputs": [
    {
     "name": "stdout",
     "output_type": "stream",
     "text": [
      "2\n"
     ]
    }
   ],
   "source": [
    "#import string\n",
    "print(\"foo bar foo\".count(\"foo\"))"
   ]
  },
  {
   "cell_type": "code",
   "execution_count": null,
   "id": "b18afb78",
   "metadata": {},
   "outputs": [],
   "source": [
    "print the following pattern\n",
    "1\n",
    "22\n",
    "333\n",
    "4444\n",
    "55555"
   ]
  },
  {
   "cell_type": "code",
   "execution_count": 26,
   "id": "ae9a501c",
   "metadata": {},
   "outputs": [
    {
     "name": "stdout",
     "output_type": "stream",
     "text": [
      "enter the value of n:5\n",
      "  1  \n",
      "  2   2  \n",
      "  3   3   3  \n",
      "  4   4   4   4  \n",
      "  5   5   5   5   5  \n"
     ]
    }
   ],
   "source": [
    "n=int(input(\"enter the value of n:\"))\n",
    "def ptrn(n):\n",
    "     for i in range(1,n+1):\n",
    "        for j in range(1,i+1):\n",
    "               print(\" \",i,end=\" \")\n",
    "        print(\" \")\n",
    "ptrn(n)          "
   ]
  },
  {
   "cell_type": "code",
   "execution_count": null,
   "id": "897de09a",
   "metadata": {},
   "outputs": [],
   "source": []
  },
  {
   "cell_type": "code",
   "execution_count": null,
   "id": "ce489faf",
   "metadata": {},
   "outputs": [],
   "source": []
  }
 ],
 "metadata": {
  "kernelspec": {
   "display_name": "Python 3",
   "language": "python",
   "name": "python3"
  },
  "language_info": {
   "codemirror_mode": {
    "name": "ipython",
    "version": 3
   },
   "file_extension": ".py",
   "mimetype": "text/x-python",
   "name": "python",
   "nbconvert_exporter": "python",
   "pygments_lexer": "ipython3",
   "version": "3.8.8"
  }
 },
 "nbformat": 4,
 "nbformat_minor": 5
}
